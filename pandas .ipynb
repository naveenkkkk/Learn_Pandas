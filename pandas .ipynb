{
 "cells": [
  {
   "cell_type": "markdown",
   "id": "b812d349",
   "metadata": {},
   "source": [
    "# Remove Duplicates"
   ]
  },
  {
   "cell_type": "code",
   "execution_count": null,
   "id": "ab3861b8",
   "metadata": {},
   "outputs": [],
   "source": [
    "# Remove all duplicate rows\n",
    "\n",
    "df.drop_duplicates(keep=False)\n",
    "\n",
    "# Delete duplicate rows based on specific columns (Name and Age)\n",
    "\n",
    "df.drop_duplicates(subset=[\"Name\", \"Age\"], keep=False)\n",
    "\n",
    "# dropping column with all null values\n",
    "\n",
    "df.dropna(axis=1, how='all', inplace=True)\n",
    "\n",
    "# What does axis 1 inplace true mean?\n",
    "# axis=1 indicates that we should remove a column ( axis=0 will attempt to remove a row). \n",
    "# inplace=True tells the method to modify the current products DataFrame rather than returning a new one with the column removed."
   ]
  },
  {
   "cell_type": "markdown",
   "id": "b99981e4",
   "metadata": {},
   "source": [
    "# Indexing"
   ]
  },
  {
   "cell_type": "code",
   "execution_count": null,
   "id": "829f10db",
   "metadata": {},
   "outputs": [],
   "source": [
    "# setting first name as index column \n",
    "data.set_index([\"First Name\"], inplace = True, \n",
    "                    append = True, drop = True) \n",
    "   \n",
    "# resetting index \n",
    "data.reset_index(inplace = True)"
   ]
  },
  {
   "cell_type": "markdown",
   "id": "33a04bc0",
   "metadata": {},
   "source": [
    "# groupby"
   ]
  },
  {
   "cell_type": "code",
   "execution_count": null,
   "id": "9cd2f5d4",
   "metadata": {},
   "outputs": [],
   "source": [
    "gk = df.groupby('Name')\n",
    "\n",
    "df.groupby(['Name']).sum()"
   ]
  },
  {
   "cell_type": "markdown",
   "id": "4a3c4545",
   "metadata": {},
   "source": [
    "# timestamp"
   ]
  },
  {
   "cell_type": "code",
   "execution_count": null,
   "id": "b8ea9095",
   "metadata": {},
   "outputs": [],
   "source": [
    "# Extracting the hour from the Timestamp\n",
    "hour = timestamp.hour\n",
    " \n",
    "# Extracting the minute from the Timestamp\n",
    "minute = timestamp.minute\n",
    " \n",
    "# Extracting the weekday from the Timestamp\n",
    "weekday = timestamp.weekday()\n",
    " \n",
    "# Extracting the quarter from the Timestamp\n",
    "quarter = timestamp.quarter\n",
    " \n"
   ]
  },
  {
   "cell_type": "markdown",
   "id": "d024f52d",
   "metadata": {},
   "source": [
    "# visualization"
   ]
  },
  {
   "cell_type": "code",
   "execution_count": null,
   "id": "93e2ea4a",
   "metadata": {},
   "outputs": [],
   "source": [
    "# https://www.geeksforgeeks.org/pandas-built-in-data-visualization-ml/?ref=lbp\n",
    "\n",
    "import matplotlib.pyplot as plt \n",
    "\n",
    "plt.style.use('ggplot') \n",
    "df1['A'].hist()\n",
    "\n",
    "df2.plot.bar() \n"
   ]
  }
 ],
 "metadata": {
  "kernelspec": {
   "display_name": "Python 3 (ipykernel)",
   "language": "python",
   "name": "python3"
  },
  "language_info": {
   "codemirror_mode": {
    "name": "ipython",
    "version": 3
   },
   "file_extension": ".py",
   "mimetype": "text/x-python",
   "name": "python",
   "nbconvert_exporter": "python",
   "pygments_lexer": "ipython3",
   "version": "3.11.5"
  }
 },
 "nbformat": 4,
 "nbformat_minor": 5
}
